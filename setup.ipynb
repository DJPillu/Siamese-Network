{
 "cells": [
  {
   "cell_type": "code",
   "execution_count": 1,
   "metadata": {},
   "outputs": [],
   "source": [
    "import cv2\n",
    "import os\n",
    "import random\n",
    "import numpy as np\n",
    "from matplotlib import pyplot as plt\n",
    "import glob"
   ]
  },
  {
   "cell_type": "code",
   "execution_count": 2,
   "metadata": {},
   "outputs": [],
   "source": [
    "import torch\n",
    "import torch.nn as nn\n",
    "import torch.nn.functional as F\n",
    "\n",
    "from torch.utils.data import Dataset, DataLoader, ConcatDataset, random_split, Subset\n",
    "from torch.nn import Linear, Conv2d, MaxPool2d, Flatten, BatchNorm2d, LayerNorm\n",
    "\n",
    "import torch.optim as optim\n",
    "\n",
    "from torchvision import transforms"
   ]
  },
  {
   "cell_type": "code",
   "execution_count": 3,
   "metadata": {},
   "outputs": [
    {
     "name": "stdout",
     "output_type": "stream",
     "text": [
      "CUDA is available. Details of available GPU(s):\n",
      "Number of GPU(s) available: 1\n",
      "GPU 0: NVIDIA GeForce RTX 4090\n",
      "  Memory Allocated: 0.0 GB\n",
      "  Memory Cached: 0.0 GB\n"
     ]
    }
   ],
   "source": [
    "# GPU Details\n",
    "if torch.cuda.is_available():\n",
    "    print(\"CUDA is available. Details of available GPU(s):\")\n",
    "    num_gpus = torch.cuda.device_count()\n",
    "    print(f\"Number of GPU(s) available: {num_gpus}\")\n",
    "    for i in range(num_gpus):\n",
    "        print(f\"GPU {i}: {torch.cuda.get_device_name(i)}\")\n",
    "        print(f\"  Memory Allocated: {torch.cuda.memory_allocated(i) / 1e9} GB\")\n",
    "        print(f\"  Memory Cached: {torch.cuda.memory_reserved(i) / 1e9} GB\")\n",
    "else:\n",
    "    print(\"CUDA is not available.\")\n"
   ]
  },
  {
   "cell_type": "code",
   "execution_count": 4,
   "metadata": {},
   "outputs": [],
   "source": [
    "    # Setup Paths\n",
    "POS_PATH = os.path.join('data', 'positive')\n",
    "NEG_PATH = os.path.join('data', 'negative')\n",
    "ANC_PATH = os.path.join('data', 'anchor')"
   ]
  },
  {
   "cell_type": "code",
   "execution_count": 5,
   "metadata": {},
   "outputs": [],
   "source": [
    "# Create Folder Structure\n",
    "os.makedirs(POS_PATH, exist_ok=True)\n",
    "os.makedirs(NEG_PATH, exist_ok=True)\n",
    "os.makedirs(ANC_PATH, exist_ok=True)"
   ]
  },
  {
   "cell_type": "code",
   "execution_count": 6,
   "metadata": {},
   "outputs": [],
   "source": [
    "# unzip Tar GZ Labelled Faces in the Wild Dataset\n",
    "# dataset: https://vis-www.cs.umass.edu/lfw/\n",
    "# !tar -xf lfw.tgz"
   ]
  },
  {
   "cell_type": "code",
   "execution_count": 7,
   "metadata": {},
   "outputs": [],
   "source": [
    "# move images from the dataset directory to data\\negative\n",
    "# for directory in os.listdir('lfw'):\n",
    "#     for file in os.listdir(os.path.join('lfw', directory)):\n",
    "#         FROM_PATH = os.path.join('lfw', directory, file)\n",
    "#         TO_PATH = os.path.join(NEG_PATH, file)\n",
    "#         os.replace(FROM_PATH, TO_PATH)"
   ]
  },
  {
   "cell_type": "code",
   "execution_count": 8,
   "metadata": {},
   "outputs": [],
   "source": [
    "# universally unique identifier for naming collected images\n",
    "import uuid"
   ]
  },
  {
   "cell_type": "code",
   "execution_count": 9,
   "metadata": {},
   "outputs": [],
   "source": [
    "# # Collect positive and anchor images\n",
    "# cap = cv2.VideoCapture(0, cv2.CAP_DSHOW)\n",
    "\n",
    "# while cap.isOpened():\n",
    "#     _, frame = cap.read()\n",
    "    \n",
    "#     # display image\n",
    "#     cv2.imshow('Frame', frame)\n",
    "    \n",
    "#     # extract 250, 250 block from image\n",
    "#     frame = frame[60:310, 200:450 :]\n",
    "    \n",
    "#     # display extracted section\n",
    "#     cv2.imshow('Tiny Frame' , frame)\n",
    "    \n",
    "#     # Collect anchors\n",
    "#     if cv2.waitKey(1) & 0xFF == ord('a'):\n",
    "#         # generate file path\n",
    "#         IMG_PATH = os.path.join(ANC_PATH, \"{}.jpg\".format(uuid.uuid1()))\n",
    "#         # save file to anchors\n",
    "#         cv2.imwrite(IMG_PATH, frame)\n",
    "    \n",
    "#     # Collect positives\n",
    "#     if cv2.waitKey(1) & 0xFF == ord('p'):\n",
    "#         # generate file path\n",
    "#         IMG_PATH = os.path.join(POS_PATH, \"{}.jpg\".format(uuid.uuid1()))\n",
    "#         # save file to positives\n",
    "#         cv2.imwrite(IMG_PATH, frame)\n",
    "    \n",
    "#     # Break loop\n",
    "#     if cv2.waitKey(1) & 0xFF == ord('q'):\n",
    "#         break\n",
    "\n",
    "# # release webcam and destroy window\n",
    "# cap.release()\n",
    "# cv2.destroyAllWindows()"
   ]
  },
  {
   "cell_type": "code",
   "execution_count": 10,
   "metadata": {},
   "outputs": [],
   "source": [
    "# grab first 300 file paths in anchors, negatives and positives\n",
    "anchor_files = glob.glob(ANC_PATH + '\\\\*.jpg')[:300]\n",
    "negative_files = glob.glob(NEG_PATH + '\\\\*.jpg')[:300]\n",
    "positive_files = glob.glob(POS_PATH + '\\\\*.jpg')[:300]"
   ]
  },
  {
   "cell_type": "code",
   "execution_count": 11,
   "metadata": {},
   "outputs": [],
   "source": [
    "class ImageDataset(Dataset):\n",
    "    def __init__(self, anchor_paths, other_paths, label):\n",
    "        \"\"\"\n",
    "        anchor_paths: List of paths to anchor images\n",
    "        other_paths: List of paths to either positive or negative images\n",
    "        label: 0 or 1 (0 for negative pairs, 1 for positive pairs)\n",
    "        \"\"\"\n",
    "        self.anchor_paths = anchor_paths\n",
    "        self.other_paths = other_paths\n",
    "        self.label = label\n",
    "        self.transform = transforms.Compose([\n",
    "            # Convert to PIL Image\n",
    "            transforms.ToPILImage(),\n",
    "            # Resize to match the Siamese paper input size\n",
    "            transforms.Resize((105, 105)),\n",
    "            # Convert to PyTorch tensor of shape (channels, height, width) which also scales values between [0, 1]\n",
    "            transforms.ToTensor(),\n",
    "        ])\n",
    "        \n",
    "    def __len__(self):\n",
    "        return len(self.anchor_paths)\n",
    "    \n",
    "    def __getitem__(self, index):\n",
    "        # Load the anchor image\n",
    "        anchor_img = cv2.imread(self.anchor_paths[index])\n",
    "        anchor_img = cv2.cvtColor(anchor_img, cv2.COLOR_BGR2RGB)  # Convert from BGR to RGB\n",
    "        anchor_img = self.transform(anchor_img)\n",
    "        \n",
    "        # Load the other image (positive or negative)\n",
    "        other_img = cv2.imread(self.other_paths[index])\n",
    "        other_img = cv2.cvtColor(other_img, cv2.COLOR_BGR2RGB)\n",
    "        other_img = self.transform(other_img)\n",
    "        \n",
    "        return anchor_img, other_img, torch.tensor(self.label, dtype=torch.float32)"
   ]
  },
  {
   "cell_type": "code",
   "execution_count": 12,
   "metadata": {},
   "outputs": [],
   "source": [
    "# Create the DataSets\n",
    "negative_dataset = ImageDataset(anchor_files, negative_files, 0)\n",
    "positive_dataset = ImageDataset(anchor_files, positive_files, 1)"
   ]
  },
  {
   "cell_type": "code",
   "execution_count": 14,
   "metadata": {},
   "outputs": [],
   "source": [
    "# for batch in positive_loader:\n",
    "#     for val in batch:\n",
    "#         print(val.shape)\n",
    "#     # print(batch)\n",
    "#     break"
   ]
  },
  {
   "cell_type": "code",
   "execution_count": 41,
   "metadata": {},
   "outputs": [],
   "source": [
    "# Concatenate datasets\n",
    "combined_dataset = ConcatDataset([positive_dataset, negative_dataset])\n",
    "\n",
    "# Calculate absolutes for a 70-30 split\n",
    "total_size = len(combined_dataset)\n",
    "train_size = int(0.7 * total_size)\n",
    "test_size = total_size - train_size\n",
    "\n",
    "# Randomly split dataset into train and test\n",
    "train_dataset, test_dataset = random_split(combined_dataset, [train_size, test_size])\n",
    "\n",
    "# Create DataLoader for training data\n",
    "train_loader = DataLoader(train_dataset, batch_size=16, shuffle=True, num_workers=8)\n",
    "\n",
    "# Create DataLoader for testing data\n",
    "test_loader = DataLoader(test_dataset, batch_size=16, shuffle=False, num_workers=8) # no shuffling for repeatability"
   ]
  },
  {
   "cell_type": "code",
   "execution_count": 42,
   "metadata": {},
   "outputs": [],
   "source": [
    "# # set num_workers to 0 before doing this, and set batch_size to 1\n",
    "# for anchor, other, label in train_loader:\n",
    "#     fig, ax = plt.subplots(1, 2)\n",
    "#     print(label)\n",
    "#     ax[0].imshow(anchor.squeeze().permute(1, 2, 0))\n",
    "#     ax[1].imshow(other.squeeze().permute(1, 2, 0))\n",
    "#     break"
   ]
  },
  {
   "cell_type": "code",
   "execution_count": null,
   "metadata": {},
   "outputs": [],
   "source": []
  }
 ],
 "metadata": {
  "kernelspec": {
   "display_name": "siamese",
   "language": "python",
   "name": "python3"
  },
  "language_info": {
   "codemirror_mode": {
    "name": "ipython",
    "version": 3
   },
   "file_extension": ".py",
   "mimetype": "text/x-python",
   "name": "python",
   "nbconvert_exporter": "python",
   "pygments_lexer": "ipython3",
   "version": "3.12.2"
  }
 },
 "nbformat": 4,
 "nbformat_minor": 2
}
