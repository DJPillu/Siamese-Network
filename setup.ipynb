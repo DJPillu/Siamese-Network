{
 "cells": [
  {
   "cell_type": "code",
   "execution_count": 1,
   "metadata": {},
   "outputs": [],
   "source": [
    "import cv2\n",
    "import os\n",
    "import random\n",
    "import numpy as np\n",
    "from matplotlib import pyplot as plt\n",
    "import glob"
   ]
  },
  {
   "cell_type": "code",
   "execution_count": 2,
   "metadata": {},
   "outputs": [],
   "source": [
    "import torch\n",
    "import torch.nn as nn\n",
    "import torch.nn.functional as F\n",
    "\n",
    "from torch.utils.data import Dataset, DataLoader, ConcatDataset, random_split, Subset\n",
    "# from torch.nn import Linear, Conv2d, MaxPool2d, Flatten, BatchNorm2d, LayerNorm\n",
    "\n",
    "import torch.optim as optim\n",
    "\n",
    "from torchvision import transforms\n",
    "\n",
    "from torchsummary import summary\n",
    "from torch.utils.tensorboard import SummaryWriter\n",
    "%load_ext tensorboard"
   ]
  },
  {
   "cell_type": "code",
   "execution_count": 3,
   "metadata": {},
   "outputs": [
    {
     "name": "stdout",
     "output_type": "stream",
     "text": [
      "CUDA is available. Details of available GPU(s):\n",
      "Number of GPU(s) available: 1\n",
      "GPU 0: NVIDIA GeForce RTX 4090\n",
      "  Memory Allocated: 0.0 GB\n",
      "  Memory Cached: 0.0 GB\n"
     ]
    }
   ],
   "source": [
    "# GPU Details\n",
    "if torch.cuda.is_available():\n",
    "    print(\"CUDA is available. Details of available GPU(s):\")\n",
    "    num_gpus = torch.cuda.device_count()\n",
    "    print(f\"Number of GPU(s) available: {num_gpus}\")\n",
    "    for i in range(num_gpus):\n",
    "        print(f\"GPU {i}: {torch.cuda.get_device_name(i)}\")\n",
    "        print(f\"  Memory Allocated: {torch.cuda.memory_allocated(i) / 1e9} GB\")\n",
    "        print(f\"  Memory Cached: {torch.cuda.memory_reserved(i) / 1e9} GB\")\n",
    "else:\n",
    "    print(\"CUDA is not available.\")\n"
   ]
  },
  {
   "cell_type": "code",
   "execution_count": 4,
   "metadata": {},
   "outputs": [],
   "source": [
    "    # Setup Paths\n",
    "POS_PATH = os.path.join('data', 'positive')\n",
    "NEG_PATH = os.path.join('data', 'negative')\n",
    "ANC_PATH = os.path.join('data', 'anchor')"
   ]
  },
  {
   "cell_type": "code",
   "execution_count": 5,
   "metadata": {},
   "outputs": [],
   "source": [
    "# Create Folder Structure\n",
    "os.makedirs(POS_PATH, exist_ok=True)\n",
    "os.makedirs(NEG_PATH, exist_ok=True)\n",
    "os.makedirs(ANC_PATH, exist_ok=True)"
   ]
  },
  {
   "cell_type": "code",
   "execution_count": 6,
   "metadata": {},
   "outputs": [],
   "source": [
    "# unzip Tar GZ Labelled Faces in the Wild Dataset\n",
    "# dataset: https://vis-www.cs.umass.edu/lfw/\n",
    "# !tar -xf lfw.tgz"
   ]
  },
  {
   "cell_type": "code",
   "execution_count": 7,
   "metadata": {},
   "outputs": [],
   "source": [
    "# move images from the dataset directory to data\\negative\n",
    "# for directory in os.listdir('lfw'):\n",
    "#     for file in os.listdir(os.path.join('lfw', directory)):\n",
    "#         FROM_PATH = os.path.join('lfw', directory, file)\n",
    "#         TO_PATH = os.path.join(NEG_PATH, file)\n",
    "#         os.replace(FROM_PATH, TO_PATH)"
   ]
  },
  {
   "cell_type": "code",
   "execution_count": 8,
   "metadata": {},
   "outputs": [],
   "source": [
    "# universally unique identifier for naming collected images\n",
    "import uuid"
   ]
  },
  {
   "cell_type": "code",
   "execution_count": 9,
   "metadata": {},
   "outputs": [],
   "source": [
    "# # Collect positive and anchor images\n",
    "# cap = cv2.VideoCapture(0, cv2.CAP_DSHOW)\n",
    "\n",
    "# while cap.isOpened():\n",
    "#     _, frame = cap.read()\n",
    "    \n",
    "#     # display image\n",
    "#     cv2.imshow('Frame', frame)\n",
    "    \n",
    "#     # extract 250, 250 block from image\n",
    "#     frame = frame[60:310, 200:450 :]\n",
    "    \n",
    "#     # display extracted section\n",
    "#     cv2.imshow('Tiny Frame' , frame)\n",
    "    \n",
    "#     # Collect anchors\n",
    "#     if cv2.waitKey(1) & 0xFF == ord('a'):\n",
    "#         # generate file path\n",
    "#         IMG_PATH = os.path.join(ANC_PATH, \"{}.jpg\".format(uuid.uuid1()))\n",
    "#         # save file to anchors\n",
    "#         cv2.imwrite(IMG_PATH, frame)\n",
    "    \n",
    "#     # Collect positives\n",
    "#     if cv2.waitKey(1) & 0xFF == ord('p'):\n",
    "#         # generate file path\n",
    "#         IMG_PATH = os.path.join(POS_PATH, \"{}.jpg\".format(uuid.uuid1()))\n",
    "#         # save file to positives\n",
    "#         cv2.imwrite(IMG_PATH, frame)\n",
    "    \n",
    "#     # Break loop\n",
    "#     if cv2.waitKey(1) & 0xFF == ord('q'):\n",
    "#         break\n",
    "\n",
    "# # release webcam and destroy window\n",
    "# cap.release()\n",
    "# cv2.destroyAllWindows()"
   ]
  },
  {
   "cell_type": "code",
   "execution_count": 10,
   "metadata": {},
   "outputs": [],
   "source": [
    "# grab first 300 file paths in anchors, negatives and positives\n",
    "anchor_files = glob.glob(ANC_PATH + '\\\\*.jpg')[:320]\n",
    "negative_files = glob.glob(NEG_PATH + '\\\\*.jpg')[:320]\n",
    "positive_files = glob.glob(POS_PATH + '\\\\*.jpg')[:320]"
   ]
  },
  {
   "cell_type": "code",
   "execution_count": 11,
   "metadata": {},
   "outputs": [],
   "source": [
    "class ImageDataset(Dataset):\n",
    "    def __init__(self, anchor_paths, other_paths, label):\n",
    "        \"\"\"\n",
    "        anchor_paths: List of paths to anchor images\n",
    "        other_paths: List of paths to either positive or negative images\n",
    "        label: 0 or 1 (0 for negative pairs, 1 for positive pairs)\n",
    "        \"\"\"\n",
    "        self.anchor_paths = anchor_paths\n",
    "        self.other_paths = other_paths\n",
    "        self.label = label\n",
    "        self.transform = transforms.Compose([\n",
    "            # Convert to PIL Image\n",
    "            transforms.ToPILImage(),\n",
    "            # Resize to match the Siamese paper input size\n",
    "            transforms.Resize((105, 105)),\n",
    "            # Convert to PyTorch tensor of shape (channels, height, width) which also scales values between [0, 1]\n",
    "            transforms.ToTensor(),\n",
    "        ])\n",
    "        \n",
    "    def __len__(self):\n",
    "        return len(self.anchor_paths)\n",
    "    \n",
    "    def __getitem__(self, index):\n",
    "        # Load the anchor image\n",
    "        anchor_img = cv2.imread(self.anchor_paths[index])\n",
    "        anchor_img = cv2.cvtColor(anchor_img, cv2.COLOR_BGR2RGB)  # Convert from BGR to RGB\n",
    "        anchor_img = self.transform(anchor_img)\n",
    "        \n",
    "        # Load the other image (positive or negative)\n",
    "        other_img = cv2.imread(self.other_paths[index])\n",
    "        other_img = cv2.cvtColor(other_img, cv2.COLOR_BGR2RGB)\n",
    "        other_img = self.transform(other_img)\n",
    "        \n",
    "        return anchor_img, other_img, torch.tensor(self.label, dtype=torch.float32)"
   ]
  },
  {
   "cell_type": "code",
   "execution_count": 12,
   "metadata": {},
   "outputs": [],
   "source": [
    "# Create the DataSets\n",
    "negative_dataset = ImageDataset(anchor_files, negative_files, 0)\n",
    "positive_dataset = ImageDataset(anchor_files, positive_files, 1)"
   ]
  },
  {
   "cell_type": "code",
   "execution_count": 14,
   "metadata": {},
   "outputs": [],
   "source": [
    "# Concatenate datasets\n",
    "combined_dataset = ConcatDataset([positive_dataset, negative_dataset])\n",
    "\n",
    "# Calculate absolutes for a 70-30 split\n",
    "total_size = len(combined_dataset)\n",
    "train_size = int(0.7 * total_size)\n",
    "test_size = total_size - train_size\n",
    "\n",
    "# Randomly split dataset into train and test\n",
    "train_dataset, test_dataset = random_split(combined_dataset, [train_size, test_size])\n",
    "\n",
    "# Create DataLoader for training data\n",
    "train_loader = DataLoader(train_dataset, batch_size=16, shuffle=True)\n",
    "\n",
    "# Create DataLoader for testing data\n",
    "test_loader = DataLoader(test_dataset, batch_size=16, shuffle=False) # no shuffling for repeatability"
   ]
  },
  {
   "cell_type": "code",
   "execution_count": 17,
   "metadata": {},
   "outputs": [],
   "source": [
    "class Embdedding(nn.Module):\n",
    "    def __init__(self):\n",
    "        super(Embdedding, self).__init__()\n",
    "        \n",
    "        # Define layers of the network\n",
    "        self.embedding = nn.Sequential(\n",
    "            nn.Conv2d(in_channels=3, out_channels=64, kernel_size=10),\n",
    "            nn.ReLU(),\n",
    "            nn.MaxPool2d(kernel_size=2, stride=2, ceil_mode=True),\n",
    "            nn.Conv2d(in_channels=64, out_channels=128, kernel_size=7),\n",
    "            nn.ReLU(),\n",
    "            nn.MaxPool2d(kernel_size=2, stride=2, ceil_mode=True),\n",
    "            nn.Conv2d(in_channels=128, out_channels=128, kernel_size=4),\n",
    "            nn.ReLU(),\n",
    "            nn.MaxPool2d(kernel_size=2, stride=2, ceil_mode=True),\n",
    "            nn.Conv2d(in_channels=128, out_channels=256, kernel_size=4),\n",
    "            nn.Flatten(),\n",
    "            nn.Linear(256*6*6, 4096),\n",
    "            nn.Sigmoid(),\n",
    "        )\n",
    "        \n",
    "    def forward(self, x):\n",
    "        x = self.embedding(x)\n",
    "        return x\n",
    "        "
   ]
  },
  {
   "cell_type": "code",
   "execution_count": 18,
   "metadata": {},
   "outputs": [
    {
     "data": {
      "text/plain": [
       "Embdedding(\n",
       "  (embedding): Sequential(\n",
       "    (0): Conv2d(3, 64, kernel_size=(10, 10), stride=(1, 1))\n",
       "    (1): ReLU()\n",
       "    (2): MaxPool2d(kernel_size=2, stride=2, padding=0, dilation=1, ceil_mode=True)\n",
       "    (3): Conv2d(64, 128, kernel_size=(7, 7), stride=(1, 1))\n",
       "    (4): ReLU()\n",
       "    (5): MaxPool2d(kernel_size=2, stride=2, padding=0, dilation=1, ceil_mode=True)\n",
       "    (6): Conv2d(128, 128, kernel_size=(4, 4), stride=(1, 1))\n",
       "    (7): ReLU()\n",
       "    (8): MaxPool2d(kernel_size=2, stride=2, padding=0, dilation=1, ceil_mode=True)\n",
       "    (9): Conv2d(128, 256, kernel_size=(4, 4), stride=(1, 1))\n",
       "    (10): Flatten(start_dim=1, end_dim=-1)\n",
       "    (11): Linear(in_features=9216, out_features=4096, bias=True)\n",
       "    (12): Sigmoid()\n",
       "  )\n",
       ")"
      ]
     },
     "execution_count": 18,
     "metadata": {},
     "output_type": "execute_result"
    }
   ],
   "source": [
    "model = Embdedding().to('cuda')\n",
    "model"
   ]
  },
  {
   "cell_type": "code",
   "execution_count": 19,
   "metadata": {},
   "outputs": [],
   "source": [
    "# # print out tensorflow like summary using torchsummary\n",
    "# summary(model, (3, 105, 105))"
   ]
  },
  {
   "cell_type": "code",
   "execution_count": 21,
   "metadata": {},
   "outputs": [],
   "source": [
    "class L1Distance(nn.Module):\n",
    "    def __init__(self):\n",
    "        super(L1Distance, self).__init__()\n",
    "        \n",
    "    def forward(self, input_embedding, validation_embedding):\n",
    "        return torch.abs(input_embedding - validation_embedding)"
   ]
  },
  {
   "cell_type": "code",
   "execution_count": 24,
   "metadata": {},
   "outputs": [],
   "source": [
    "class SiameseNetwork(nn.Module):\n",
    "    def __init__(self):\n",
    "        super(SiameseNetwork, self).__init__()\n",
    "        \n",
    "        # Embedding layers\n",
    "        self.embedding = Embdedding()\n",
    "        \n",
    "        # Custom layer to calculate l1 distance\n",
    "        self.l1dist = L1Distance()\n",
    "        \n",
    "        # Classification layer\n",
    "        self.seq = nn.Sequential(\n",
    "            nn.Linear(4096, 1),\n",
    "            nn.Sigmoid()\n",
    "        )\n",
    "      \n",
    "    def forward(self, anchor_image, validation_image):\n",
    "        # Create embedding for anchor image\n",
    "        anchor_embedding = self.embedding(anchor_image)\n",
    "        \n",
    "        # Create embedding for image to validate\n",
    "        validation_embedding = self.embedding(validation_image)\n",
    "        \n",
    "        # Calculate L1 Distance\n",
    "        distances = self.l1dist(anchor_embedding, validation_embedding)\n",
    "        \n",
    "        # Classify\n",
    "        classification = self.seq(distances)\n",
    "        \n",
    "        return classification    \n",
    "        "
   ]
  },
  {
   "cell_type": "code",
   "execution_count": 25,
   "metadata": {},
   "outputs": [
    {
     "data": {
      "text/plain": [
       "SiameseNetwork(\n",
       "  (embedding): Embdedding(\n",
       "    (embedding): Sequential(\n",
       "      (0): Conv2d(3, 64, kernel_size=(10, 10), stride=(1, 1))\n",
       "      (1): ReLU()\n",
       "      (2): MaxPool2d(kernel_size=2, stride=2, padding=0, dilation=1, ceil_mode=True)\n",
       "      (3): Conv2d(64, 128, kernel_size=(7, 7), stride=(1, 1))\n",
       "      (4): ReLU()\n",
       "      (5): MaxPool2d(kernel_size=2, stride=2, padding=0, dilation=1, ceil_mode=True)\n",
       "      (6): Conv2d(128, 128, kernel_size=(4, 4), stride=(1, 1))\n",
       "      (7): ReLU()\n",
       "      (8): MaxPool2d(kernel_size=2, stride=2, padding=0, dilation=1, ceil_mode=True)\n",
       "      (9): Conv2d(128, 256, kernel_size=(4, 4), stride=(1, 1))\n",
       "      (10): Flatten(start_dim=1, end_dim=-1)\n",
       "      (11): Linear(in_features=9216, out_features=4096, bias=True)\n",
       "      (12): Sigmoid()\n",
       "    )\n",
       "  )\n",
       "  (l1dist): L1Distance()\n",
       "  (seq): Sequential(\n",
       "    (0): Linear(in_features=4096, out_features=1, bias=True)\n",
       "    (1): Sigmoid()\n",
       "  )\n",
       ")"
      ]
     },
     "execution_count": 25,
     "metadata": {},
     "output_type": "execute_result"
    }
   ],
   "source": [
    "model = SiameseNetwork()\n",
    "model\n",
    "# summary(model, input_data=[(3, 105, 105), (3, 105, 105)])"
   ]
  },
  {
   "cell_type": "code",
   "execution_count": 28,
   "metadata": {},
   "outputs": [],
   "source": [
    "def train_step(model, train_loader, criterion, optimizer, epoch, writer):\n",
    "    model.train()\n",
    "    running_loss = 0.0\n",
    "    correct = 0\n",
    "    total = 0\n",
    "    \n",
    "    for batch_idx, (anchors, others, labels) in enumerate(train_loader):\n",
    "        anchors, others, labels = anchors.cuda(), others.cuda(), labels.unsqueeze(1).cuda()\n",
    "        \n",
    "        # Zero the parameter gradients\n",
    "        optimizer.zero_grad()\n",
    "        \n",
    "        # Forward pass to get output\n",
    "        outputs = model(anchors, others)\n",
    "        # Calculate loss\n",
    "        loss = criterion(outputs, labels)\n",
    "        running_loss += loss.item()\n",
    "        # Calculate gradient\n",
    "        loss.backward()\n",
    "        # Update parameters\n",
    "        optimizer.step()\n",
    "        \n",
    "        # Calculate Accuracy\n",
    "        predicted = (outputs > 0.5).float()\n",
    "        total += labels.size(0)\n",
    "        correct += (predicted == labels).sum().item()\n",
    "        \n",
    "        if batch_idx % 10 == 6: # Log every 7 batches\n",
    "            writer.add_scalar('Training Loss', running_loss / 7, epoch * len(train_loader) + batch_idx)\n",
    "            writer.add_scalar('Training Accuracy', (correct / total) * 100, epoch * len(train_loader) + batch_idx)\n",
    "            running_loss = 0.0\n",
    "            correct = 0\n",
    "            total = 0"
   ]
  },
  {
   "cell_type": "code",
   "execution_count": 29,
   "metadata": {},
   "outputs": [],
   "source": [
    "def evaluate(model, validation_loader, criterion, epoch, writer):\n",
    "    model.eval()\n",
    "    total_loss = 0.0\n",
    "    correct = 0\n",
    "    total = 0\n",
    "    \n",
    "    with torch.no_grad():\n",
    "        for batch_idx, (anchors, others, labels) in enumerate(validation_loader):\n",
    "            anchors, others, labels = anchors.cuda(), others.cuda(), labels.unsqueeze(1).cuda()\n",
    "            \n",
    "            # Forward pass to get output\n",
    "            outputs = model(anchors, others)\n",
    "            # Calculate loss\n",
    "            loss = criterion(outputs, labels)\n",
    "            total_loss += loss.item()\n",
    "            \n",
    "            predicted = (outputs > 0.5).float()\n",
    "            total += labels.size(0)\n",
    "            correct += (predicted == labels).sum().item()\n",
    "            \n",
    "    avg_loss = total_loss / len(validation_loader)\n",
    "    accuracy = (correct / total) * 100\n",
    "    writer.add_scalar('Validation Loss', avg_loss, epoch)\n",
    "    writer.add_scalar('Validation Accuracy', accuracy, epoch)\n",
    "    print(f'Validation Loss: {avg_loss:.4f}, Accuracy: {accuracy:.2f}%')\n",
    "    # return avg_loss, accuracy   \n",
    "            "
   ]
  },
  {
   "cell_type": "code",
   "execution_count": 30,
   "metadata": {},
   "outputs": [],
   "source": [
    "model = SiameseNetwork().cuda()\n",
    "\n",
    "# Binary Cross-Entropy loss for the output of the final sigmoid layer\n",
    "criterion = nn.BCELoss()\n",
    "\n",
    "# Optimizer\n",
    "optimizer = optim.Adam(model.parameters(), lr=0.0001)\n",
    "\n",
    "# Initialize TensorBoard writer\n",
    "writer = SummaryWriter('runs/siamese_experiment')"
   ]
  },
  {
   "cell_type": "code",
   "execution_count": 31,
   "metadata": {},
   "outputs": [
    {
     "name": "stdout",
     "output_type": "stream",
     "text": [
      "Validation Loss: 0.2125, Accuracy: 94.27%\n",
      "Validation Loss: 0.0923, Accuracy: 98.44%\n",
      "Validation Loss: 0.0621, Accuracy: 98.96%\n",
      "Validation Loss: 0.0511, Accuracy: 99.48%\n",
      "Validation Loss: 0.0238, Accuracy: 99.48%\n",
      "Validation Loss: 0.0154, Accuracy: 99.48%\n",
      "Validation Loss: 0.0196, Accuracy: 99.48%\n",
      "Validation Loss: 0.0155, Accuracy: 99.48%\n",
      "Validation Loss: 0.0248, Accuracy: 99.48%\n",
      "Validation Loss: 0.0131, Accuracy: 98.96%\n",
      "Validation Loss: 0.0128, Accuracy: 99.48%\n",
      "Validation Loss: 0.0117, Accuracy: 99.48%\n",
      "Validation Loss: 0.0113, Accuracy: 99.48%\n",
      "Validation Loss: 0.0104, Accuracy: 99.48%\n",
      "Validation Loss: 0.0088, Accuracy: 99.48%\n",
      "Validation Loss: 0.0084, Accuracy: 99.48%\n",
      "Validation Loss: 0.0078, Accuracy: 99.48%\n",
      "Validation Loss: 0.0070, Accuracy: 99.48%\n",
      "Validation Loss: 0.0063, Accuracy: 99.48%\n",
      "Validation Loss: 0.0062, Accuracy: 100.00%\n",
      "Validation Loss: 0.0055, Accuracy: 100.00%\n",
      "Validation Loss: 0.0048, Accuracy: 100.00%\n",
      "Validation Loss: 0.0049, Accuracy: 100.00%\n",
      "Validation Loss: 0.0042, Accuracy: 100.00%\n",
      "Validation Loss: 0.0050, Accuracy: 100.00%\n",
      "Validation Loss: 0.0041, Accuracy: 100.00%\n",
      "Validation Loss: 0.0033, Accuracy: 100.00%\n",
      "Validation Loss: 0.0031, Accuracy: 100.00%\n",
      "Validation Loss: 0.0035, Accuracy: 100.00%\n",
      "Validation Loss: 0.0037, Accuracy: 100.00%\n",
      "Validation Loss: 0.0038, Accuracy: 100.00%\n",
      "Validation Loss: 0.0038, Accuracy: 100.00%\n",
      "Validation Loss: 0.0028, Accuracy: 100.00%\n",
      "Validation Loss: 0.0032, Accuracy: 100.00%\n",
      "Validation Loss: 0.0036, Accuracy: 100.00%\n",
      "Validation Loss: 0.0024, Accuracy: 100.00%\n",
      "Validation Loss: 0.0046, Accuracy: 99.48%\n",
      "Validation Loss: 0.0032, Accuracy: 100.00%\n",
      "Validation Loss: 0.0039, Accuracy: 100.00%\n",
      "Validation Loss: 0.0039, Accuracy: 100.00%\n",
      "Validation Loss: 0.0021, Accuracy: 100.00%\n",
      "Validation Loss: 0.0047, Accuracy: 99.48%\n",
      "Validation Loss: 0.0039, Accuracy: 99.48%\n",
      "Validation Loss: 0.0030, Accuracy: 100.00%\n",
      "Validation Loss: 0.0047, Accuracy: 99.48%\n",
      "Validation Loss: 0.0032, Accuracy: 100.00%\n",
      "Validation Loss: 0.0037, Accuracy: 100.00%\n",
      "Validation Loss: 0.0032, Accuracy: 100.00%\n",
      "Validation Loss: 0.0037, Accuracy: 100.00%\n",
      "Validation Loss: 0.0037, Accuracy: 100.00%\n"
     ]
    }
   ],
   "source": [
    "epochs = 50\n",
    "\n",
    "for epoch in range(1, epochs + 1):\n",
    "    train_step(model, train_loader, criterion, optimizer, epoch, writer)\n",
    "    evaluate(model, test_loader, criterion, epoch, writer)\n",
    "    \n",
    "writer.close()"
   ]
  },
  {
   "cell_type": "code",
   "execution_count": 37,
   "metadata": {},
   "outputs": [
    {
     "data": {
      "text/plain": [
       "Reusing TensorBoard on port 6006 (pid 22296), started 2 days, 6:11:22 ago. (Use '!kill 22296' to kill it.)"
      ]
     },
     "metadata": {},
     "output_type": "display_data"
    },
    {
     "data": {
      "text/html": [
       "\n",
       "      <iframe id=\"tensorboard-frame-dffd57253cf4f7d\" width=\"100%\" height=\"800\" frameborder=\"0\">\n",
       "      </iframe>\n",
       "      <script>\n",
       "        (function() {\n",
       "          const frame = document.getElementById(\"tensorboard-frame-dffd57253cf4f7d\");\n",
       "          const url = new URL(\"http://localhost\");\n",
       "          const port = 6006;\n",
       "          if (port) {\n",
       "            url.port = port;\n",
       "          }\n",
       "          frame.src = url;\n",
       "        })();\n",
       "      </script>\n",
       "    "
      ],
      "text/plain": [
       "<IPython.core.display.HTML object>"
      ]
     },
     "metadata": {},
     "output_type": "display_data"
    }
   ],
   "source": [
    "%tensorboard --logdir=runs"
   ]
  },
  {
   "cell_type": "code",
   "execution_count": 33,
   "metadata": {},
   "outputs": [],
   "source": [
    "# Save the entire model\n",
    "torch.save(model, 'Siamese_Network.pth')"
   ]
  },
  {
   "cell_type": "code",
   "execution_count": 34,
   "metadata": {},
   "outputs": [],
   "source": [
    "# Save the model state and metrics\n",
    "torch.save({\n",
    "    'epoch': epoch,\n",
    "    'model_state_dict': model.state_dict(),\n",
    "    'optimizer_state_dict': optimizer.state_dict(),\n",
    "    'validation_loss': 0.0219,\n",
    "    'validation_accuracy': \"98.96%\",\n",
    "}, 'Siamese_Network_State.pth')"
   ]
  },
  {
   "cell_type": "code",
   "execution_count": 35,
   "metadata": {},
   "outputs": [],
   "source": [
    "# # To load the entire model\n",
    "# model = torch.load('Siamese_Network.pth')\n",
    "\n",
    "# # To load the model from state dictionary\n",
    "# model = SiameseNetwork() # Re-instantiate the model using its class\n",
    "# checkpoint = torch.load('model_checkpoint.pth')\n",
    "# model.load_state_dict(checkpoint['model_state_dictionary'])\n",
    "# model.cuda()"
   ]
  },
  {
   "cell_type": "code",
   "execution_count": null,
   "metadata": {},
   "outputs": [],
   "source": [
    "# for inference\n",
    "model.eval()\n",
    "\n",
    "def sample_gen(test_loader=test_loader):\n",
    "    for anchors, others, labels in test_loader:\n",
    "        anchors, others, labels = anchors.cuda(), others.cuda(), labels.unsqueeze(1).cuda()\n",
    "        \n",
    "        outputs = model(anchors, others)\n",
    "        \n",
    "        for idx, output in enumerate(outputs):\n",
    "            anchor = anchors[idx]\n",
    "            other = others[idx]\n",
    "            output = outputs[idx]\n",
    "            \n",
    "            fig, ax = plt.subplots(1, 2)\n",
    "            ax[0].imshow(anchor.cpu().squeeze().permute(1, 2, 0))\n",
    "            ax[1].imshow(other.cpu().squeeze().permute(1, 2, 0))\n",
    "            \n",
    "            print('Confidence: ' + str(round(output.item())))\n",
    "            \n",
    "            yield None # to make the method a generator\n",
    "sample = sample_gen()"
   ]
  },
  {
   "cell_type": "code",
   "execution_count": null,
   "metadata": {},
   "outputs": [],
   "source": [
    "next(sample)"
   ]
  }
 ],
 "metadata": {
  "kernelspec": {
   "display_name": "siamese",
   "language": "python",
   "name": "python3"
  },
  "language_info": {
   "codemirror_mode": {
    "name": "ipython",
    "version": 3
   },
   "file_extension": ".py",
   "mimetype": "text/x-python",
   "name": "python",
   "nbconvert_exporter": "python",
   "pygments_lexer": "ipython3",
   "version": "3.12.2"
  }
 },
 "nbformat": 4,
 "nbformat_minor": 2
}
