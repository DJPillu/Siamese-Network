{
 "cells": [
  {
   "cell_type": "code",
   "execution_count": 1,
   "metadata": {},
   "outputs": [],
   "source": [
    "import cv2\n",
    "import os\n",
    "import random\n",
    "import numpy as np\n",
    "from matplotlib import pyplot as plt\n",
    "import glob"
   ]
  },
  {
   "cell_type": "code",
   "execution_count": 2,
   "metadata": {},
   "outputs": [],
   "source": [
    "import torch\n",
    "import torch.nn as nn\n",
    "import torch.nn.functional as F\n",
    "\n",
    "from torch.utils.data import Dataset, DataLoader, ConcatDataset, random_split, Subset\n",
    "# from torch.nn import Linear, Conv2d, MaxPool2d, Flatten, BatchNorm2d, LayerNorm\n",
    "\n",
    "import torch.optim as optim\n",
    "\n",
    "from torchvision import transforms\n",
    "\n",
    "from torchsummary import summary"
   ]
  },
  {
   "cell_type": "code",
   "execution_count": 3,
   "metadata": {},
   "outputs": [
    {
     "name": "stdout",
     "output_type": "stream",
     "text": [
      "CUDA is available. Details of available GPU(s):\n",
      "Number of GPU(s) available: 1\n",
      "GPU 0: NVIDIA GeForce RTX 4090\n",
      "  Memory Allocated: 0.0 GB\n",
      "  Memory Cached: 0.0 GB\n"
     ]
    }
   ],
   "source": [
    "# GPU Details\n",
    "if torch.cuda.is_available():\n",
    "    print(\"CUDA is available. Details of available GPU(s):\")\n",
    "    num_gpus = torch.cuda.device_count()\n",
    "    print(f\"Number of GPU(s) available: {num_gpus}\")\n",
    "    for i in range(num_gpus):\n",
    "        print(f\"GPU {i}: {torch.cuda.get_device_name(i)}\")\n",
    "        print(f\"  Memory Allocated: {torch.cuda.memory_allocated(i) / 1e9} GB\")\n",
    "        print(f\"  Memory Cached: {torch.cuda.memory_reserved(i) / 1e9} GB\")\n",
    "else:\n",
    "    print(\"CUDA is not available.\")\n"
   ]
  },
  {
   "cell_type": "code",
   "execution_count": 4,
   "metadata": {},
   "outputs": [],
   "source": [
    "    # Setup Paths\n",
    "POS_PATH = os.path.join('data', 'positive')\n",
    "NEG_PATH = os.path.join('data', 'negative')\n",
    "ANC_PATH = os.path.join('data', 'anchor')"
   ]
  },
  {
   "cell_type": "code",
   "execution_count": 5,
   "metadata": {},
   "outputs": [],
   "source": [
    "# Create Folder Structure\n",
    "os.makedirs(POS_PATH, exist_ok=True)\n",
    "os.makedirs(NEG_PATH, exist_ok=True)\n",
    "os.makedirs(ANC_PATH, exist_ok=True)"
   ]
  },
  {
   "cell_type": "code",
   "execution_count": 6,
   "metadata": {},
   "outputs": [],
   "source": [
    "# unzip Tar GZ Labelled Faces in the Wild Dataset\n",
    "# dataset: https://vis-www.cs.umass.edu/lfw/\n",
    "# !tar -xf lfw.tgz"
   ]
  },
  {
   "cell_type": "code",
   "execution_count": 7,
   "metadata": {},
   "outputs": [],
   "source": [
    "# move images from the dataset directory to data\\negative\n",
    "# for directory in os.listdir('lfw'):\n",
    "#     for file in os.listdir(os.path.join('lfw', directory)):\n",
    "#         FROM_PATH = os.path.join('lfw', directory, file)\n",
    "#         TO_PATH = os.path.join(NEG_PATH, file)\n",
    "#         os.replace(FROM_PATH, TO_PATH)"
   ]
  },
  {
   "cell_type": "code",
   "execution_count": 8,
   "metadata": {},
   "outputs": [],
   "source": [
    "# universally unique identifier for naming collected images\n",
    "import uuid"
   ]
  },
  {
   "cell_type": "code",
   "execution_count": 9,
   "metadata": {},
   "outputs": [],
   "source": [
    "# # Collect positive and anchor images\n",
    "# cap = cv2.VideoCapture(0, cv2.CAP_DSHOW)\n",
    "\n",
    "# while cap.isOpened():\n",
    "#     _, frame = cap.read()\n",
    "    \n",
    "#     # display image\n",
    "#     cv2.imshow('Frame', frame)\n",
    "    \n",
    "#     # extract 250, 250 block from image\n",
    "#     frame = frame[60:310, 200:450 :]\n",
    "    \n",
    "#     # display extracted section\n",
    "#     cv2.imshow('Tiny Frame' , frame)\n",
    "    \n",
    "#     # Collect anchors\n",
    "#     if cv2.waitKey(1) & 0xFF == ord('a'):\n",
    "#         # generate file path\n",
    "#         IMG_PATH = os.path.join(ANC_PATH, \"{}.jpg\".format(uuid.uuid1()))\n",
    "#         # save file to anchors\n",
    "#         cv2.imwrite(IMG_PATH, frame)\n",
    "    \n",
    "#     # Collect positives\n",
    "#     if cv2.waitKey(1) & 0xFF == ord('p'):\n",
    "#         # generate file path\n",
    "#         IMG_PATH = os.path.join(POS_PATH, \"{}.jpg\".format(uuid.uuid1()))\n",
    "#         # save file to positives\n",
    "#         cv2.imwrite(IMG_PATH, frame)\n",
    "    \n",
    "#     # Break loop\n",
    "#     if cv2.waitKey(1) & 0xFF == ord('q'):\n",
    "#         break\n",
    "\n",
    "# # release webcam and destroy window\n",
    "# cap.release()\n",
    "# cv2.destroyAllWindows()"
   ]
  },
  {
   "cell_type": "code",
   "execution_count": 10,
   "metadata": {},
   "outputs": [],
   "source": [
    "# grab first 300 file paths in anchors, negatives and positives\n",
    "anchor_files = glob.glob(ANC_PATH + '\\\\*.jpg')[:300]\n",
    "negative_files = glob.glob(NEG_PATH + '\\\\*.jpg')[:300]\n",
    "positive_files = glob.glob(POS_PATH + '\\\\*.jpg')[:300]"
   ]
  },
  {
   "cell_type": "code",
   "execution_count": 11,
   "metadata": {},
   "outputs": [],
   "source": [
    "class ImageDataset(Dataset):\n",
    "    def __init__(self, anchor_paths, other_paths, label):\n",
    "        \"\"\"\n",
    "        anchor_paths: List of paths to anchor images\n",
    "        other_paths: List of paths to either positive or negative images\n",
    "        label: 0 or 1 (0 for negative pairs, 1 for positive pairs)\n",
    "        \"\"\"\n",
    "        self.anchor_paths = anchor_paths\n",
    "        self.other_paths = other_paths\n",
    "        self.label = label\n",
    "        self.transform = transforms.Compose([\n",
    "            # Convert to PIL Image\n",
    "            transforms.ToPILImage(),\n",
    "            # Resize to match the Siamese paper input size\n",
    "            transforms.Resize((105, 105)),\n",
    "            # Convert to PyTorch tensor of shape (channels, height, width) which also scales values between [0, 1]\n",
    "            transforms.ToTensor(),\n",
    "        ])\n",
    "        \n",
    "    def __len__(self):\n",
    "        return len(self.anchor_paths)\n",
    "    \n",
    "    def __getitem__(self, index):\n",
    "        # Load the anchor image\n",
    "        anchor_img = cv2.imread(self.anchor_paths[index])\n",
    "        anchor_img = cv2.cvtColor(anchor_img, cv2.COLOR_BGR2RGB)  # Convert from BGR to RGB\n",
    "        anchor_img = self.transform(anchor_img)\n",
    "        \n",
    "        # Load the other image (positive or negative)\n",
    "        other_img = cv2.imread(self.other_paths[index])\n",
    "        other_img = cv2.cvtColor(other_img, cv2.COLOR_BGR2RGB)\n",
    "        other_img = self.transform(other_img)\n",
    "        \n",
    "        return anchor_img, other_img, torch.tensor(self.label, dtype=torch.float32)"
   ]
  },
  {
   "cell_type": "code",
   "execution_count": 12,
   "metadata": {},
   "outputs": [],
   "source": [
    "# Create the DataSets\n",
    "negative_dataset = ImageDataset(anchor_files, negative_files, 0)\n",
    "positive_dataset = ImageDataset(anchor_files, positive_files, 1)"
   ]
  },
  {
   "cell_type": "code",
   "execution_count": 13,
   "metadata": {},
   "outputs": [],
   "source": [
    "# for batch in positive_loader:\n",
    "#     for val in batch:\n",
    "#         print(val.shape)\n",
    "#     # print(batch)\n",
    "#     break"
   ]
  },
  {
   "cell_type": "code",
   "execution_count": 14,
   "metadata": {},
   "outputs": [],
   "source": [
    "# Concatenate datasets\n",
    "combined_dataset = ConcatDataset([positive_dataset, negative_dataset])\n",
    "\n",
    "# Calculate absolutes for a 70-30 split\n",
    "total_size = len(combined_dataset)\n",
    "train_size = int(0.7 * total_size)\n",
    "test_size = total_size - train_size\n",
    "\n",
    "# Randomly split dataset into train and test\n",
    "train_dataset, test_dataset = random_split(combined_dataset, [train_size, test_size])\n",
    "\n",
    "# Create DataLoader for training data\n",
    "train_loader = DataLoader(train_dataset, batch_size=16, shuffle=True, num_workers=8)\n",
    "\n",
    "# Create DataLoader for testing data\n",
    "test_loader = DataLoader(test_dataset, batch_size=16, shuffle=False, num_workers=8) # no shuffling for repeatability"
   ]
  },
  {
   "cell_type": "code",
   "execution_count": 15,
   "metadata": {},
   "outputs": [],
   "source": [
    "# # set num_workers to 0 before doing this, and set batch_size to 1\n",
    "# for anchor, other, label in train_loader:\n",
    "#     fig, ax = plt.subplots(1, 2)\n",
    "#     print(label)\n",
    "#     ax[0].imshow(anchor.squeeze().permute(1, 2, 0))\n",
    "#     ax[1].imshow(other.squeeze().permute(1, 2, 0))\n",
    "#     break"
   ]
  },
  {
   "cell_type": "code",
   "execution_count": 16,
   "metadata": {},
   "outputs": [],
   "source": [
    "# not required, remove later\n",
    "# class Flatten(nn.Module):\n",
    "#     def forward(self, input):\n",
    "#         return input.view(input.size(0), -1)"
   ]
  },
  {
   "cell_type": "code",
   "execution_count": 57,
   "metadata": {},
   "outputs": [],
   "source": [
    "class Embdedding(nn.Module):\n",
    "    def __init__(self):\n",
    "        super(Embdedding, self).__init__()\n",
    "        \n",
    "        # Define layers of the network\n",
    "        self.embedding = nn.Sequential(\n",
    "            nn.Conv2d(in_channels=3, out_channels=64, kernel_size=10),\n",
    "            nn.ReLU(),\n",
    "            nn.MaxPool2d(kernel_size=2, stride=2, ceil_mode=True),\n",
    "            nn.Conv2d(in_channels=64, out_channels=128, kernel_size=7),\n",
    "            nn.ReLU(),\n",
    "            nn.MaxPool2d(kernel_size=2, stride=2, ceil_mode=True),\n",
    "            nn.Conv2d(in_channels=128, out_channels=128, kernel_size=4),\n",
    "            nn.ReLU(),\n",
    "            nn.MaxPool2d(kernel_size=2, stride=2, ceil_mode=True),\n",
    "            nn.Conv2d(in_channels=128, out_channels=256, kernel_size=4),\n",
    "            nn.Flatten(),\n",
    "            # Flatten(),\n",
    "            nn.Linear(256*6*6, 4096),\n",
    "            nn.Sigmoid(),\n",
    "            # nn.Linear(4096, 1),\n",
    "            # nn.Sigmoid()\n",
    "        )\n",
    "        \n",
    "    def forward(self, x):\n",
    "        x = self.embedding(x)\n",
    "        return x\n",
    "        "
   ]
  },
  {
   "cell_type": "code",
   "execution_count": 58,
   "metadata": {},
   "outputs": [
    {
     "data": {
      "text/plain": [
       "Embdedding(\n",
       "  (embedding): Sequential(\n",
       "    (0): Conv2d(3, 64, kernel_size=(10, 10), stride=(1, 1))\n",
       "    (1): ReLU()\n",
       "    (2): MaxPool2d(kernel_size=2, stride=2, padding=0, dilation=1, ceil_mode=True)\n",
       "    (3): Conv2d(64, 128, kernel_size=(7, 7), stride=(1, 1))\n",
       "    (4): ReLU()\n",
       "    (5): MaxPool2d(kernel_size=2, stride=2, padding=0, dilation=1, ceil_mode=True)\n",
       "    (6): Conv2d(128, 128, kernel_size=(4, 4), stride=(1, 1))\n",
       "    (7): ReLU()\n",
       "    (8): MaxPool2d(kernel_size=2, stride=2, padding=0, dilation=1, ceil_mode=True)\n",
       "    (9): Conv2d(128, 256, kernel_size=(4, 4), stride=(1, 1))\n",
       "    (10): Flatten(start_dim=1, end_dim=-1)\n",
       "    (11): Linear(in_features=9216, out_features=4096, bias=True)\n",
       "    (12): Sigmoid()\n",
       "  )\n",
       ")"
      ]
     },
     "execution_count": 58,
     "metadata": {},
     "output_type": "execute_result"
    }
   ],
   "source": [
    "model = Embdedding().to('cuda')\n",
    "model"
   ]
  },
  {
   "cell_type": "code",
   "execution_count": 59,
   "metadata": {},
   "outputs": [
    {
     "name": "stdout",
     "output_type": "stream",
     "text": [
      "==========================================================================================\n",
      "Layer (type:depth-idx)                   Output Shape              Param #\n",
      "==========================================================================================\n",
      "├─Sequential: 1-1                        [-1, 4096]                --\n",
      "|    └─Conv2d: 2-1                       [-1, 64, 96, 96]          19,264\n",
      "|    └─ReLU: 2-2                         [-1, 64, 96, 96]          --\n",
      "|    └─MaxPool2d: 2-3                    [-1, 64, 48, 48]          --\n",
      "|    └─Conv2d: 2-4                       [-1, 128, 42, 42]         401,536\n",
      "|    └─ReLU: 2-5                         [-1, 128, 42, 42]         --\n",
      "|    └─MaxPool2d: 2-6                    [-1, 128, 21, 21]         --\n",
      "|    └─Conv2d: 2-7                       [-1, 128, 18, 18]         262,272\n",
      "|    └─ReLU: 2-8                         [-1, 128, 18, 18]         --\n",
      "|    └─MaxPool2d: 2-9                    [-1, 128, 9, 9]           --\n",
      "|    └─Conv2d: 2-10                      [-1, 256, 6, 6]           524,544\n",
      "|    └─Flatten: 2-11                     [-1, 9216]                --\n",
      "|    └─Linear: 2-12                      [-1, 4096]                37,752,832\n",
      "|    └─Sigmoid: 2-13                     [-1, 4096]                --\n",
      "==========================================================================================\n",
      "Total params: 38,960,448\n",
      "Trainable params: 38,960,448\n",
      "Non-trainable params: 0\n",
      "Total mult-adds (G): 1.07\n",
      "==========================================================================================\n",
      "Input size (MB): 0.13\n",
      "Forward/backward pass size (MB): 6.64\n",
      "Params size (MB): 148.62\n",
      "Estimated Total Size (MB): 155.39\n",
      "==========================================================================================\n"
     ]
    },
    {
     "data": {
      "text/plain": [
       "==========================================================================================\n",
       "Layer (type:depth-idx)                   Output Shape              Param #\n",
       "==========================================================================================\n",
       "├─Sequential: 1-1                        [-1, 4096]                --\n",
       "|    └─Conv2d: 2-1                       [-1, 64, 96, 96]          19,264\n",
       "|    └─ReLU: 2-2                         [-1, 64, 96, 96]          --\n",
       "|    └─MaxPool2d: 2-3                    [-1, 64, 48, 48]          --\n",
       "|    └─Conv2d: 2-4                       [-1, 128, 42, 42]         401,536\n",
       "|    └─ReLU: 2-5                         [-1, 128, 42, 42]         --\n",
       "|    └─MaxPool2d: 2-6                    [-1, 128, 21, 21]         --\n",
       "|    └─Conv2d: 2-7                       [-1, 128, 18, 18]         262,272\n",
       "|    └─ReLU: 2-8                         [-1, 128, 18, 18]         --\n",
       "|    └─MaxPool2d: 2-9                    [-1, 128, 9, 9]           --\n",
       "|    └─Conv2d: 2-10                      [-1, 256, 6, 6]           524,544\n",
       "|    └─Flatten: 2-11                     [-1, 9216]                --\n",
       "|    └─Linear: 2-12                      [-1, 4096]                37,752,832\n",
       "|    └─Sigmoid: 2-13                     [-1, 4096]                --\n",
       "==========================================================================================\n",
       "Total params: 38,960,448\n",
       "Trainable params: 38,960,448\n",
       "Non-trainable params: 0\n",
       "Total mult-adds (G): 1.07\n",
       "==========================================================================================\n",
       "Input size (MB): 0.13\n",
       "Forward/backward pass size (MB): 6.64\n",
       "Params size (MB): 148.62\n",
       "Estimated Total Size (MB): 155.39\n",
       "=========================================================================================="
      ]
     },
     "execution_count": 59,
     "metadata": {},
     "output_type": "execute_result"
    }
   ],
   "source": [
    "# print out tensorflow like summary using torchsummary\n",
    "summary(model, (3, 105, 105))"
   ]
  },
  {
   "cell_type": "code",
   "execution_count": 60,
   "metadata": {},
   "outputs": [
    {
     "name": "stdout",
     "output_type": "stream",
     "text": [
      "torch.Size([16, 3, 105, 105])\n",
      "torch.Size([16, 4096])\n"
     ]
    }
   ],
   "source": [
    "x = torch.tensor(np.random.randn(16, 3, 105, 105), dtype=torch.float32).cuda()\n",
    "y = torch.tensor(np.random.randn(16, 3, 105, 105), dtype=torch.float32).cuda()\n",
    "print(x.shape)\n",
    "print(model(x).shape)"
   ]
  },
  {
   "cell_type": "code",
   "execution_count": 61,
   "metadata": {},
   "outputs": [],
   "source": [
    "class L1Distance(nn.Module):\n",
    "    def __init__(self):\n",
    "        super(L1Distance, self).__init__()\n",
    "        \n",
    "    def forward(self, input_embedding, validation_embedding):\n",
    "        return torch.abs(input_embedding - validation_embedding)"
   ]
  },
  {
   "cell_type": "code",
   "execution_count": 62,
   "metadata": {},
   "outputs": [],
   "source": [
    "l = L1Distance()\n",
    "sig = nn.Sigmoid()\n",
    "lin = nn.Linear(4096, 1).cuda()"
   ]
  },
  {
   "cell_type": "code",
   "execution_count": 64,
   "metadata": {},
   "outputs": [
    {
     "data": {
      "text/plain": [
       "tensor([[0.5049],\n",
       "        [0.5048],\n",
       "        [0.5051],\n",
       "        [0.5044],\n",
       "        [0.5041],\n",
       "        [0.5040],\n",
       "        [0.5043],\n",
       "        [0.5048],\n",
       "        [0.5037],\n",
       "        [0.5047],\n",
       "        [0.5042],\n",
       "        [0.5047],\n",
       "        [0.5048],\n",
       "        [0.5044],\n",
       "        [0.5050],\n",
       "        [0.5049]], device='cuda:0', grad_fn=<SigmoidBackward0>)"
      ]
     },
     "execution_count": 64,
     "metadata": {},
     "output_type": "execute_result"
    }
   ],
   "source": [
    "sig(lin(l(model(x), model(y))))"
   ]
  },
  {
   "cell_type": "code",
   "execution_count": 77,
   "metadata": {},
   "outputs": [],
   "source": [
    "class SiameseNetwork(nn.Module):\n",
    "    def __init__(self):\n",
    "        super(SiameseNetwork, self).__init__()\n",
    "        \n",
    "        # Embedding layers\n",
    "        self.embedding = Embdedding()\n",
    "        \n",
    "        # Custom layer to calculate l1 distance\n",
    "        self.l1dist = L1Distance()\n",
    "        \n",
    "        # Classification layer\n",
    "        self.seq = nn.Sequential(\n",
    "            nn.Linear(4096, 1),\n",
    "            nn.Sigmoid()\n",
    "        )\n",
    "      \n",
    "    def forward(self, anchor_image, validation_image):\n",
    "        # Create embedding for anchor image\n",
    "        anchor_embedding = self.embedding(anchor_image)\n",
    "        \n",
    "        # Create embedding for image to validate\n",
    "        validation_embedding = self.embedding(validation_image)\n",
    "        \n",
    "        # Calculate L1 Distance\n",
    "        distances = self.l1dist(anchor_embedding, validation_embedding)\n",
    "        \n",
    "        # Classify\n",
    "        classification = self.seq(distances)\n",
    "        \n",
    "        return classification    \n",
    "        "
   ]
  },
  {
   "cell_type": "code",
   "execution_count": 78,
   "metadata": {},
   "outputs": [
    {
     "name": "stdout",
     "output_type": "stream",
     "text": [
      "==========================================================================================\n",
      "Layer (type:depth-idx)                   Output Shape              Param #\n",
      "==========================================================================================\n",
      "├─Embdedding: 1-1                        [-1, 4096]                --\n",
      "|    └─Sequential: 2-1                   [-1, 4096]                --\n",
      "|    |    └─Conv2d: 3-1                  [-1, 64, 96, 96]          19,264\n",
      "|    |    └─ReLU: 3-2                    [-1, 64, 96, 96]          --\n",
      "|    |    └─MaxPool2d: 3-3               [-1, 64, 48, 48]          --\n",
      "|    |    └─Conv2d: 3-4                  [-1, 128, 42, 42]         401,536\n",
      "|    |    └─ReLU: 3-5                    [-1, 128, 42, 42]         --\n",
      "|    |    └─MaxPool2d: 3-6               [-1, 128, 21, 21]         --\n",
      "|    |    └─Conv2d: 3-7                  [-1, 128, 18, 18]         262,272\n",
      "|    |    └─ReLU: 3-8                    [-1, 128, 18, 18]         --\n",
      "|    |    └─MaxPool2d: 3-9               [-1, 128, 9, 9]           --\n",
      "|    |    └─Conv2d: 3-10                 [-1, 256, 6, 6]           524,544\n",
      "|    |    └─Flatten: 3-11                [-1, 9216]                --\n",
      "|    |    └─Linear: 3-12                 [-1, 4096]                37,752,832\n",
      "|    |    └─Sigmoid: 3-13                [-1, 4096]                --\n",
      "├─Embdedding: 1-2                        [-1, 4096]                (recursive)\n",
      "|    └─Sequential: 2-2                   [-1, 4096]                (recursive)\n",
      "|    |    └─Conv2d: 3-14                 [-1, 64, 96, 96]          (recursive)\n",
      "|    |    └─ReLU: 3-15                   [-1, 64, 96, 96]          --\n",
      "|    |    └─MaxPool2d: 3-16              [-1, 64, 48, 48]          --\n",
      "|    |    └─Conv2d: 3-17                 [-1, 128, 42, 42]         (recursive)\n",
      "|    |    └─ReLU: 3-18                   [-1, 128, 42, 42]         --\n",
      "|    |    └─MaxPool2d: 3-19              [-1, 128, 21, 21]         --\n",
      "|    |    └─Conv2d: 3-20                 [-1, 128, 18, 18]         (recursive)\n",
      "|    |    └─ReLU: 3-21                   [-1, 128, 18, 18]         --\n",
      "|    |    └─MaxPool2d: 3-22              [-1, 128, 9, 9]           --\n",
      "|    |    └─Conv2d: 3-23                 [-1, 256, 6, 6]           (recursive)\n",
      "|    |    └─Flatten: 3-24                [-1, 9216]                --\n",
      "|    |    └─Linear: 3-25                 [-1, 4096]                (recursive)\n",
      "|    |    └─Sigmoid: 3-26                [-1, 4096]                --\n",
      "├─L1Distance: 1-3                        [-1, 4096]                --\n",
      "├─Sequential: 1-4                        [-1, 1]                   --\n",
      "|    └─Linear: 2-3                       [-1, 1]                   4,097\n",
      "|    └─Sigmoid: 2-4                      [-1, 1]                   --\n",
      "==========================================================================================\n",
      "Total params: 38,964,545\n",
      "Trainable params: 38,964,545\n",
      "Non-trainable params: 0\n",
      "Total mult-adds (G): 2.21\n",
      "==========================================================================================\n",
      "Input size (MB): 0.25\n",
      "Forward/backward pass size (MB): 6.64\n",
      "Params size (MB): 148.64\n",
      "Estimated Total Size (MB): 155.53\n",
      "==========================================================================================\n"
     ]
    },
    {
     "data": {
      "text/plain": [
       "==========================================================================================\n",
       "Layer (type:depth-idx)                   Output Shape              Param #\n",
       "==========================================================================================\n",
       "├─Embdedding: 1-1                        [-1, 4096]                --\n",
       "|    └─Sequential: 2-1                   [-1, 4096]                --\n",
       "|    |    └─Conv2d: 3-1                  [-1, 64, 96, 96]          19,264\n",
       "|    |    └─ReLU: 3-2                    [-1, 64, 96, 96]          --\n",
       "|    |    └─MaxPool2d: 3-3               [-1, 64, 48, 48]          --\n",
       "|    |    └─Conv2d: 3-4                  [-1, 128, 42, 42]         401,536\n",
       "|    |    └─ReLU: 3-5                    [-1, 128, 42, 42]         --\n",
       "|    |    └─MaxPool2d: 3-6               [-1, 128, 21, 21]         --\n",
       "|    |    └─Conv2d: 3-7                  [-1, 128, 18, 18]         262,272\n",
       "|    |    └─ReLU: 3-8                    [-1, 128, 18, 18]         --\n",
       "|    |    └─MaxPool2d: 3-9               [-1, 128, 9, 9]           --\n",
       "|    |    └─Conv2d: 3-10                 [-1, 256, 6, 6]           524,544\n",
       "|    |    └─Flatten: 3-11                [-1, 9216]                --\n",
       "|    |    └─Linear: 3-12                 [-1, 4096]                37,752,832\n",
       "|    |    └─Sigmoid: 3-13                [-1, 4096]                --\n",
       "├─Embdedding: 1-2                        [-1, 4096]                (recursive)\n",
       "|    └─Sequential: 2-2                   [-1, 4096]                (recursive)\n",
       "|    |    └─Conv2d: 3-14                 [-1, 64, 96, 96]          (recursive)\n",
       "|    |    └─ReLU: 3-15                   [-1, 64, 96, 96]          --\n",
       "|    |    └─MaxPool2d: 3-16              [-1, 64, 48, 48]          --\n",
       "|    |    └─Conv2d: 3-17                 [-1, 128, 42, 42]         (recursive)\n",
       "|    |    └─ReLU: 3-18                   [-1, 128, 42, 42]         --\n",
       "|    |    └─MaxPool2d: 3-19              [-1, 128, 21, 21]         --\n",
       "|    |    └─Conv2d: 3-20                 [-1, 128, 18, 18]         (recursive)\n",
       "|    |    └─ReLU: 3-21                   [-1, 128, 18, 18]         --\n",
       "|    |    └─MaxPool2d: 3-22              [-1, 128, 9, 9]           --\n",
       "|    |    └─Conv2d: 3-23                 [-1, 256, 6, 6]           (recursive)\n",
       "|    |    └─Flatten: 3-24                [-1, 9216]                --\n",
       "|    |    └─Linear: 3-25                 [-1, 4096]                (recursive)\n",
       "|    |    └─Sigmoid: 3-26                [-1, 4096]                --\n",
       "├─L1Distance: 1-3                        [-1, 4096]                --\n",
       "├─Sequential: 1-4                        [-1, 1]                   --\n",
       "|    └─Linear: 2-3                       [-1, 1]                   4,097\n",
       "|    └─Sigmoid: 2-4                      [-1, 1]                   --\n",
       "==========================================================================================\n",
       "Total params: 38,964,545\n",
       "Trainable params: 38,964,545\n",
       "Non-trainable params: 0\n",
       "Total mult-adds (G): 2.21\n",
       "==========================================================================================\n",
       "Input size (MB): 0.25\n",
       "Forward/backward pass size (MB): 6.64\n",
       "Params size (MB): 148.64\n",
       "Estimated Total Size (MB): 155.53\n",
       "=========================================================================================="
      ]
     },
     "execution_count": 78,
     "metadata": {},
     "output_type": "execute_result"
    }
   ],
   "source": [
    "model = SiameseNetwork().cuda()\n",
    "summary(model, input_data=[(3, 105, 105), (3, 105, 105)])"
   ]
  },
  {
   "cell_type": "code",
   "execution_count": 79,
   "metadata": {},
   "outputs": [
    {
     "data": {
      "text/plain": [
       "tensor([[0.4997],\n",
       "        [0.5010],\n",
       "        [0.5002],\n",
       "        [0.5001],\n",
       "        [0.5001],\n",
       "        [0.5003],\n",
       "        [0.5005],\n",
       "        [0.4998],\n",
       "        [0.5005],\n",
       "        [0.5005],\n",
       "        [0.4999],\n",
       "        [0.5001],\n",
       "        [0.5020],\n",
       "        [0.4998],\n",
       "        [0.4999],\n",
       "        [0.5005]], device='cuda:0', grad_fn=<SigmoidBackward0>)"
      ]
     },
     "execution_count": 79,
     "metadata": {},
     "output_type": "execute_result"
    }
   ],
   "source": [
    "model(x, y)"
   ]
  },
  {
   "cell_type": "code",
   "execution_count": null,
   "metadata": {},
   "outputs": [],
   "source": []
  }
 ],
 "metadata": {
  "kernelspec": {
   "display_name": "siamese",
   "language": "python",
   "name": "python3"
  },
  "language_info": {
   "codemirror_mode": {
    "name": "ipython",
    "version": 3
   },
   "file_extension": ".py",
   "mimetype": "text/x-python",
   "name": "python",
   "nbconvert_exporter": "python",
   "pygments_lexer": "ipython3",
   "version": "3.12.2"
  }
 },
 "nbformat": 4,
 "nbformat_minor": 2
}
